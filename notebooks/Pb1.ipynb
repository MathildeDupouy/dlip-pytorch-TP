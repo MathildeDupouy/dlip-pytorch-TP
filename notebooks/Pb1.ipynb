{
 "cells": [
  {
   "attachments": {},
   "cell_type": "markdown",
   "metadata": {},
   "source": [
    "## Multi-classification problem\n"
   ]
  },
  {
   "cell_type": "code",
   "execution_count": 3,
   "metadata": {},
   "outputs": [],
   "source": [
    "# Uncomment the next line to install packages\n",
    "#!pip install torch torchvision matplotlib pandas seaborn requests "
   ]
  },
  {
   "cell_type": "code",
   "execution_count": 56,
   "metadata": {},
   "outputs": [],
   "source": [
    "import torch\n",
    "import torch.nn as nn\n",
    "import torch.nn.functional as F\n",
    "import torchvision\n",
    "import torchvision.transforms as transforms\n",
    "from torch.utils.data import DataLoader, random_split\n",
    "import mlflow\n",
    "import requests\n",
    "import os\n",
    "\n",
    "os.environ[\"KMP_DUPLICATE_LIB_OK\"]=\"TRUE\"\n",
    "import matplotlib.pyplot as plt\n",
    "\n",
    "%matplotlib inline"
   ]
  },
  {
   "cell_type": "markdown",
   "metadata": {},
   "source": [
    "## Load Data\n",
    "\n",
    "PyTorch provides two powerful data primitives: `torch.utils.data.DataLoader` and `torch.utils.data.Dataset` that allow you to use pre-loaded datasets as well as prepare your own data. `Dataset` stores the samples and their corresponding labels, and `DataLoader` wraps an iterable around the Dataset to enable easy access to the samples.\n",
    "\n",
    "### USPS Dataset\n",
    "* Handwritten digits with 10 classes\n",
    "* 16x16 pixels for each image \n",
    "* 6 000 data examples in training set, 1 291 examples in validation set, 2 007 in test set"
   ]
  },
  {
   "cell_type": "code",
   "execution_count": 5,
   "metadata": {},
   "outputs": [],
   "source": [
    "raw_data_path = '../data/raw/'\n",
    "\n",
    "# url = 'https://www.csie.ntu.edu.tw/~cjlin/libsvmtools/datasets/multiclass/usps.bz2'\n",
    "# r = requests.get(url, allow_redirects=True)\n",
    "# if not os.path.isdir(raw_data_path + 'USPS/'):\n",
    "#     os.mkdir('USPS/')\n",
    "# open('USPS/usps.bz2', 'wb').write(r.content)"
   ]
  },
  {
   "cell_type": "code",
   "execution_count": 102,
   "metadata": {},
   "outputs": [],
   "source": [
    "# Loading USPS dataset from torchvision.dataset\n",
    "dataset = torchvision.datasets.USPS(root= raw_data_path + 'USPS/',\n",
    "                                           train=True, \n",
    "                                           transform=transforms.ToTensor(),\n",
    "                                           download=False)"
   ]
  },
  {
   "cell_type": "code",
   "execution_count": 103,
   "metadata": {},
   "outputs": [
    {
     "data": {
      "text/plain": [
       "Dataset USPS\n",
       "    Number of datapoints: 7291\n",
       "    Root location: ../data/raw/USPS/\n",
       "    StandardTransform\n",
       "Transform: ToTensor()"
      ]
     },
     "execution_count": 103,
     "metadata": {},
     "output_type": "execute_result"
    }
   ],
   "source": [
    "# Get info from dataset\n",
    "dataset"
   ]
  },
  {
   "cell_type": "code",
   "execution_count": 8,
   "metadata": {},
   "outputs": [],
   "source": [
    "# Obtain the inputs and targets:\n",
    "inputs = dataset.data\n",
    "targets = dataset.targets"
   ]
  },
  {
   "cell_type": "code",
   "execution_count": 9,
   "metadata": {},
   "outputs": [
    {
     "name": "stdout",
     "output_type": "stream",
     "text": [
      "Sample type and shape :  <class 'numpy.ndarray'> (16, 16)\n",
      "Label type and value :  <class 'int'> 9\n"
     ]
    }
   ],
   "source": [
    "# Let's look at a data point\n",
    "sample_index = 88\n",
    "\n",
    "data_sample = dataset.data[sample_index]\n",
    "target_sample = dataset.targets[sample_index]\n",
    "print(\"Sample type and shape : \",type(data_sample),data_sample.shape)\n",
    "print(\"Label type and value : \" ,type(target_sample),target_sample)"
   ]
  },
  {
   "cell_type": "code",
   "execution_count": 11,
   "metadata": {},
   "outputs": [
    {
     "data": {
      "image/png": "[encoded data removed]",
      "text/plain": [
       "<Figure size 640x480 with 1 Axes>"
      ]
     },
     "metadata": {},
     "output_type": "display_data"
    }
   ],
   "source": [
    "sample_index = 88\n",
    "plt.imshow(dataset.data[sample_index], cmap=plt.cm.gray_r, interpolation='nearest')\n",
    "plt.title(\"image label: %d\" % dataset.targets[sample_index])\n",
    "plt.show()"
   ]
  },
  {
   "cell_type": "markdown",
   "metadata": {},
   "source": [
    "## Pytorch Tensor"
   ]
  },
  {
   "attachments": {},
   "cell_type": "markdown",
   "metadata": {},
   "source": [
    "Pytorch Documentation : https://pytorch.org/docs/stable/index.html"
   ]
  },
  {
   "cell_type": "code",
   "execution_count": 12,
   "metadata": {},
   "outputs": [
    {
     "name": "stdout",
     "output_type": "stream",
     "text": [
      "Tensor type : <class 'torch.Tensor'> , and shape :  torch.Size([16, 16])\n"
     ]
    }
   ],
   "source": [
    "tensor_data_point = torch.tensor(data_sample)\n",
    "print(\"Tensor type :\",type(tensor_data_point),\", and shape : \",tensor_data_point.shape)"
   ]
  },
  {
   "cell_type": "code",
   "execution_count": 13,
   "metadata": {},
   "outputs": [
    {
     "data": {
      "image/png": "[encoded data removed]",
      "text/plain": [
       "<Figure size 640x480 with 1 Axes>"
      ]
     },
     "metadata": {},
     "output_type": "display_data"
    }
   ],
   "source": [
    "# Pyplot can manage torch Tensors\n",
    "plt.imshow(tensor_data_point, cmap=plt.cm.gray_r)\n",
    "plt.title(\"Tensor display\")\n",
    "plt.show()"
   ]
  },
  {
   "cell_type": "code",
   "execution_count": 14,
   "metadata": {},
   "outputs": [],
   "source": [
    "# split the dataset to training and validation sets\n",
    "generator1 = torch.Generator().manual_seed(42)\n",
    "train_set, val_set = random_split(dataset, [6000, 1291], generator=generator1)"
   ]
  },
  {
   "cell_type": "markdown",
   "metadata": {},
   "source": [
    "## Build your Neural Network\n",
    "The `torch.nn` namespace provides all the building blocks you need to create your own neural network such as fully connected layers or convolutional layers etc. We define our neural network by subclassing `nn.Module`, and the neural network layers are initialized in **\\__init\\__**. Every `nn.Module` subclass implements the operations on input data in the **forward** method."
   ]
  },
  {
   "cell_type": "markdown",
   "metadata": {},
   "source": [
    "Inheritance in Python (https://www.programiz.com/python-programming/inheritance)"
   ]
  },
  {
   "cell_type": "code",
   "execution_count": 17,
   "metadata": {},
   "outputs": [],
   "source": [
    "class Model(nn.Module):\n",
    "    \n",
    "    def __init__(self):\n",
    "        super(Model, self).__init__()\n",
    "        # We allocate space for the weights\n",
    "        self.l1 = nn.Linear(16*16, 100)\n",
    "        self.l2 = nn.Linear(100, 10)\n",
    "        # Input size is 16*16, output size should be the same with the number of classes\n",
    "        \n",
    "    def forward(self, inputs): # Called when we apply the network \n",
    "        h = F.relu(self.l1(inputs)) # You can put anything, as long as its Pytorch functions\n",
    "        outputs = F.softmax(self.l2(h), dim=1)# Use softmax as the activation function for the last layer\n",
    "        return outputs"
   ]
  },
  {
   "attachments": {},
   "cell_type": "markdown",
   "metadata": {},
   "source": [
    "Description of AutoGrad (https://pytorch.org/docs/stable/notes/autograd.html)"
   ]
  },
  {
   "cell_type": "markdown",
   "metadata": {},
   "source": [
    "### Instantiation and forward call"
   ]
  },
  {
   "cell_type": "code",
   "execution_count": 18,
   "metadata": {},
   "outputs": [
    {
     "name": "stdout",
     "output_type": "stream",
     "text": [
      " - What is the type of my_model ? <class '__main__.Model'>\n",
      "==================================================\n",
      " - Description of the internal of the Network : Model(\n",
      "  (l1): Linear(in_features=256, out_features=100, bias=True)\n",
      "  (l2): Linear(in_features=100, out_features=10, bias=True)\n",
      ")\n",
      "==================================================\n",
      " - Content of the first Layer : Parameter containing:\n",
      "tensor([[ 0.0090, -0.0487, -0.0274,  ..., -0.0581, -0.0600, -0.0167],\n",
      "        [-0.0501, -0.0002,  0.0164,  ...,  0.0046,  0.0611, -0.0308],\n",
      "        [ 0.0283, -0.0254, -0.0189,  ..., -0.0139,  0.0464, -0.0421],\n",
      "        ...,\n",
      "        [-0.0428,  0.0346,  0.0520,  ..., -0.0139, -0.0571, -0.0579],\n",
      "        [-0.0363,  0.0114, -0.0457,  ...,  0.0363, -0.0068, -0.0359],\n",
      "        [ 0.0623,  0.0525, -0.0282,  ...,  0.0619,  0.0011,  0.0624]],\n",
      "       requires_grad=True)\n"
     ]
    }
   ],
   "source": [
    "# We initialize the Model class\n",
    "my_model = Model() # it calls the init method\n",
    "print(\" - What is the type of my_model ?\",type(my_model))\n",
    "print(\"=\"*50)\n",
    "print(\" - Description of the internal of the Network :\",my_model)\n",
    "print(\"=\"*50)\n",
    "print(\" - Content of the first Layer :\", my_model.l1.weight,)"
   ]
  },
  {
   "cell_type": "code",
   "execution_count": 19,
   "metadata": {},
   "outputs": [
    {
     "name": "stdout",
     "output_type": "stream",
     "text": [
      "A : torch.Size([100, 256])  b :  torch.Size([100])\n"
     ]
    }
   ],
   "source": [
    "# Shape of the Linear Layer \n",
    "print(\"A :\",my_model.l1.weight.shape,\" b : \",my_model.l1.bias.shape)"
   ]
  },
  {
   "cell_type": "code",
   "execution_count": 21,
   "metadata": {},
   "outputs": [
    {
     "name": "stdout",
     "output_type": "stream",
     "text": [
      "Original tensor shape torch.Size([3, 1, 16, 16])\n",
      "==================================================\n",
      "Impact of the view method torch.Size([3, 256])\n",
      "==================================================\n",
      "Shape of the output torch.Size([3, 10])\n",
      "==================================================\n",
      "Predictions for the first image : tensor([0.1029, 0.1111, 0.1062, 0.1063, 0.0842, 0.0973, 0.0953, 0.0982, 0.0998,\n",
      "        0.0987])\n",
      "==================================================\n",
      "Sum of all outputs :  tensor(1., grad_fn=<SumBackward0>)\n"
     ]
    }
   ],
   "source": [
    "# Let's explore the forward pass\n",
    "example_batch_size = 3\n",
    "example_loader = DataLoader(dataset, batch_size=example_batch_size, shuffle=True)\n",
    "\n",
    "for images,labels in example_loader:\n",
    "    print(\"Original tensor shape\",images.shape)\n",
    "    print(\"=\"*50)\n",
    "    print(\"Impact of the view method\",images.view(example_batch_size,-1).shape)\n",
    "    print(\"=\"*50)\n",
    "    example_output = my_model(images.view(example_batch_size,-1))\n",
    "    print(\"Shape of the output\",example_output.shape)\n",
    "    print(\"=\"*50)\n",
    "    print(\"Predictions for the first image :\",example_output[0].detach())\n",
    "    print(\"=\"*50)\n",
    "    print(\"Sum of all outputs : \",torch.sum(example_output[0])) # You should use detach !\n",
    "    break"
   ]
  },
  {
   "cell_type": "code",
   "execution_count": 25,
   "metadata": {},
   "outputs": [
    {
     "name": "stdout",
     "output_type": "stream",
     "text": [
      "Original Labels :  tensor([1, 9, 6])\n",
      "==================================================\n",
      "One Hot encoding : tensor([[0., 1., 0., 0., 0., 0., 0., 0., 0., 0.],\n",
      "        [0., 0., 0., 0., 0., 0., 0., 0., 0., 1.],\n",
      "        [0., 0., 0., 0., 0., 0., 1., 0., 0., 0.]])\n"
     ]
    }
   ],
   "source": [
    "# Example of One Hot Encoding\n",
    "\n",
    "labels_one_hot = torch.FloatTensor(example_batch_size, 10)\n",
    "labels_one_hot.zero_()\n",
    "print(\"Original Labels : \",labels.detach())\n",
    "print(\"=\"*50)\n",
    "# print(labels.shape, labels.view(-1, 1).shape, labels.view(-1, 1))\n",
    "print(\"One Hot encoding :\",labels_one_hot.scatter_(1, labels.view(-1, 1), 1).detach())"
   ]
  },
  {
   "cell_type": "markdown",
   "metadata": {},
   "source": [
    "## Train your Model"
   ]
  },
  {
   "cell_type": "code",
   "execution_count": 26,
   "metadata": {},
   "outputs": [],
   "source": [
    "# Create the model: \n",
    "model = Model()\n",
    "\n",
    "# Choose the hyperparameters for training: \n",
    "num_epochs = 10\n",
    "batch_size = 10\n",
    "\n",
    "# Use mean squared loss function \n",
    "criterion = nn.MSELoss()\n",
    "\n",
    "# Use SGD optimizer with a learning rate of 0.01\n",
    "# It is initialized on our model\n",
    "optimizer = torch.optim.SGD(model.parameters(), lr=0.1)"
   ]
  },
  {
   "cell_type": "code",
   "execution_count": 29,
   "metadata": {},
   "outputs": [],
   "source": [
    "# define a function for training\n",
    "def train(num_epochs, batch_size, criterion, optimizer, model, dataset):\n",
    "    train_error = []\n",
    "    train_loader = DataLoader(dataset, batch_size, shuffle=True)\n",
    "    model.train() # Indicates to the network we are in training mode\n",
    "    for epoch in range(num_epochs):\n",
    "        epoch_average_loss = 0.0\n",
    "        for (images, labels) in train_loader:\n",
    "            y_pre = model(images.view(batch_size, -1)) \n",
    "            #reshape the inputs from [N, img_shape, img_shape] to [N, img_shape*img_shape] \n",
    "            \n",
    "            # One-hot encoding or labels so as to calculate MSE error:\n",
    "            labels_one_hot = torch.FloatTensor(batch_size, 10)\n",
    "            labels_one_hot.zero_()\n",
    "            labels_one_hot.scatter_(1, labels.view(-1, 1), 1)\n",
    "           \n",
    "            \n",
    "            loss = criterion(y_pre, labels_one_hot) #Real number\n",
    "            optimizer.zero_grad() # Set all the parameters gradient to 0\n",
    "            loss.backward() # Computes  dloss/da for every parameter a which has requires_grad=True\n",
    "            optimizer.step() # Updates the weights \n",
    "            epoch_average_loss += loss.item() * batch_size / len(dataset)\n",
    "        train_error.append(epoch_average_loss)\n",
    "        print('Epoch [{}/{}], Loss: {:.4f}'\n",
    "                      .format(epoch+1, num_epochs, epoch_average_loss))\n",
    "    return train_error"
   ]
  },
  {
   "cell_type": "code",
   "execution_count": 30,
   "metadata": {},
   "outputs": [
    {
     "name": "stdout",
     "output_type": "stream",
     "text": [
      "Epoch [1/10], Loss: 0.0845\n",
      "Epoch [2/10], Loss: 0.0702\n",
      "Epoch [3/10], Loss: 0.0565\n",
      "Epoch [4/10], Loss: 0.0426\n",
      "Epoch [5/10], Loss: 0.0318\n",
      "Epoch [6/10], Loss: 0.0241\n",
      "Epoch [7/10], Loss: 0.0193\n",
      "Epoch [8/10], Loss: 0.0164\n",
      "Epoch [9/10], Loss: 0.0146\n",
      "Epoch [10/10], Loss: 0.0133\n"
     ]
    }
   ],
   "source": [
    "train_error = train(num_epochs, batch_size, criterion, optimizer, model, train_set)"
   ]
  },
  {
   "cell_type": "code",
   "execution_count": 31,
   "metadata": {},
   "outputs": [
    {
     "data": {
      "text/plain": [
       "Text(0.5, 1.0, 'Visualization of convergence')"
      ]
     },
     "execution_count": 31,
     "metadata": {},
     "output_type": "execute_result"
    },
    {
     "data": {
      "image/png": "[encoded data removed]",
      "text/plain": [
       "<Figure size 640x480 with 1 Axes>"
      ]
     },
     "metadata": {},
     "output_type": "display_data"
    }
   ],
   "source": [
    "# plot the training error wrt. the number of epochs: \n",
    "plt.plot(range(1, num_epochs+1), train_error)\n",
    "plt.xlabel(\"num_epochs\")\n",
    "plt.ylabel(\"Train error\")\n",
    "plt.title(\"Visualization of convergence\")"
   ]
  },
  {
   "cell_type": "markdown",
   "metadata": {},
   "source": [
    "### Evaluate the Model on validation set"
   ]
  },
  {
   "cell_type": "code",
   "execution_count": 33,
   "metadata": {},
   "outputs": [],
   "source": [
    "# Calculate the accuracy to evaluate the model\n",
    "def accuracy(dataset, model):\n",
    "\n",
    "    with torch.no_grad():\n",
    "        correct = 0\n",
    "        total = 0\n",
    "        dataloader = DataLoader(dataset)\n",
    "        for images, labels in dataloader:\n",
    "            images = images.view(-1, 16*16)\n",
    "            outputs = model(images)\n",
    "            _, predicted = torch.max(outputs.data, 1)  \n",
    "            correct += (predicted == labels).sum()\n",
    "    accuracy = 100*correct.item()/ len(dataset)\n",
    "    print('Accuracy of the model : {:.2f} %'.format(100*correct.item()/ len(dataset)))\n",
    "    return accuracy"
   ]
  },
  {
   "cell_type": "code",
   "execution_count": 34,
   "metadata": {},
   "outputs": [
    {
     "name": "stdout",
     "output_type": "stream",
     "text": [
      "Accuracy of the model : 92.10 %\n"
     ]
    }
   ],
   "source": [
    "accuracy(val_set, model)"
   ]
  },
  {
   "cell_type": "code",
   "execution_count": 62,
   "metadata": {},
   "outputs": [],
   "source": [
    "val_index = 66\n",
    "\n",
    "(image, label) = val_set[val_index]\n",
    "output = model(image.view(-1, 16*16))\n",
    "_, prediction = torch.max(output.data, 1)\n",
    "\n",
    "plt.imshow(image.view(16, 16), cmap=plt.cm.gray_r, interpolation='nearest')\n",
    "plt.title(\"Prediction label: %d\" % prediction)"
   ]
  },
  {
   "cell_type": "markdown",
   "metadata": {},
   "source": [
    "### Exercise 1: Impact of the architecture of the model\n",
    "Define your own class `Model` to improve the predictions:\n",
    "\n",
    "* The convolutional layer can be a good choice to deal with images. Replace nn.Linear with [nn.Conv2d](https://pytorch.org/docs/stable/nn.html#conv2d).\n",
    "* Try to add more layers (1, 2, 3, more ?)\n",
    "* Change the number of neurons in hidden layers (5, 10, 20, more ?)\n",
    "* Try different activation functions such as [sigmoid](https://pytorch.org/docs/stable/nn.functional.html#torch.nn.functional.sigmoid), [tanh](https://pytorch.org/docs/stable/nn.functional.html#torch.nn.functional.tanh), [relu](https://pytorch.org/docs/stable/nn.functional.html#torch.nn.functional.relu), etc."
   ]
  },
  {
   "cell_type": "code",
   "execution_count": 96,
   "metadata": {},
   "outputs": [],
   "source": [
    "# Calculate the accuracy to evaluate the model\n",
    "def accuracy2d(dataset, model):\n",
    "\n",
    "    with torch.no_grad():\n",
    "        correct = 0\n",
    "        total = 0\n",
    "        dataloader = DataLoader(dataset)\n",
    "        for images, labels in dataloader:\n",
    "            outputs = model(images)\n",
    "            _, predicted = torch.max(outputs.data, 1)  \n",
    "            correct += (predicted == labels).sum()\n",
    "    accuracy = 100*correct.item()/ len(dataset)\n",
    "    return accuracy"
   ]
  },
  {
   "cell_type": "code",
   "execution_count": 86,
   "metadata": {},
   "outputs": [],
   "source": [
    "# define a function for training\n",
    "MLF_CONFIG_DEF = {\n",
    "    'name_experiment' : 'test_name',\n",
    "    'run_name' : 'test_run',\n",
    "    'description' : 'This is the default config.'\n",
    "}\n",
    "\n",
    "def train_mlflow(num_epochs, batch_size, criterion, optimizer, model, train_dataset, test_dataset, training_params = {}, model_params = {}, exp_config = MLF_CONFIG_DEF):\n",
    "    # MLflow configuration\n",
    "    name_experiment =  exp_config['name_experiment']\n",
    "    mlflow.set_tracking_uri(uri=\"http://127.0.0.1:8080\")\n",
    "    mlflow.set_experiment(name_experiment)\n",
    "    if mlflow.get_experiment_by_name(name_experiment) is None:\n",
    "        mlflow.create_experiment(name_experiment)\n",
    "    experiment_id = mlflow.get_experiment_by_name(name_experiment).experiment_id\n",
    "\n",
    "    # Start run\n",
    "    with mlflow.start_run(experiment_id=experiment_id,\n",
    "                      run_name=exp_config['run_name'],\n",
    "                      description=exp_config['description']):\n",
    "        mlflow.log_param('epochs', num_epochs)\n",
    "        mlflow.log_param('batch_size', batch_size)\n",
    "        mlflow.log_params(training_params)\n",
    "        mlflow.log_params(model_params)\n",
    "\n",
    "\n",
    "        train_error = []\n",
    "        train_loader = DataLoader(train_dataset, batch_size, shuffle=True)\n",
    "        model.train() # Indicates to the network we are in training mode\n",
    "        for epoch in range(num_epochs):\n",
    "            epoch_average_loss = 0.0\n",
    "            for (images, labels) in train_loader:\n",
    "                y_pre = model(images) \n",
    "            \n",
    "                # One-hot encoding or labels so as to calculate MSE error:\n",
    "                labels_one_hot = torch.FloatTensor(batch_size, 10)\n",
    "                labels_one_hot.zero_()\n",
    "                labels_one_hot.scatter_(1, labels.view(-1, 1), 1)\n",
    "            \n",
    "                loss = criterion(y_pre, labels_one_hot) #Real number\n",
    "                optimizer.zero_grad() # Set all the parameters gradient to 0\n",
    "                loss.backward() # Computes  dloss/da for every parameter a which has requires_grad=True\n",
    "                optimizer.step() # Updates the weights \n",
    "                epoch_average_loss += loss.item() * batch_size / len(dataset)\n",
    "            train_error.append(epoch_average_loss)\n",
    "        \n",
    "            #Test\n",
    "            test_accuracy = accuracy2d(test_dataset, model)\n",
    "            print('Epoch [{}/{}] \\t Train loss: {:.4f}'\n",
    "                      .format(epoch+1, num_epochs, epoch_average_loss))\n",
    "            print('\\t Test accuracy: {:.4f}'.format(test_accuracy))\n",
    "        # Log last metrics \n",
    "        # TODO : log best metrics ?\n",
    "        mlflow.log_metric('loss', loss.item())\n",
    "        mlflow.log_metric('accuracy', test_accuracy)\n",
    "\n",
    "    return train_error"
   ]
  },
  {
   "cell_type": "code",
   "execution_count": 81,
   "metadata": {},
   "outputs": [],
   "source": [
    "class ConvModel(nn.Module):\n",
    "    \n",
    "    def __init__(self, n_hidden = 1, k_size = 5, activation_fn = F.relu):\n",
    "        super(ConvModel, self).__init__()\n",
    "        self.n_hidden = n_hidden\n",
    "        self.layer_width = k_size\n",
    "        # We allocate space for the weights\n",
    "        self.input_layer = nn.Conv2d(1, 1, k_size, padding='same')\n",
    "        self.conv_layers = nn.ModuleList([nn.Conv2d(1, 1, k_size, padding='same') for i in range(n_hidden)])\n",
    "        self.activation = activation_fn\n",
    "        self.l2 = nn.Linear(16*16, 10)\n",
    "        # Input size is 16*16, output size should be the same with the number of classes\n",
    "        \n",
    "    def forward(self, inputs): # Called when we apply the network \n",
    "        h = self.activation(self.input_layer(inputs))\n",
    "        for conv_layer in self.conv_layers :\n",
    "            h = self.activation(conv_layer(h))\n",
    "        h = torch.flatten(h, start_dim = 1)\n",
    "        outputs = F.softmax(self.l2(h), dim=1)# Use softmax as the activation function for the last layer\n",
    "        return outputs"
   ]
  },
  {
   "cell_type": "code",
   "execution_count": 100,
   "metadata": {},
   "outputs": [
    {
     "name": "stdout",
     "output_type": "stream",
     "text": [
      " - What is the type of model ? <class '__main__.ConvModel'>\n",
      "==================================================\n",
      " - Description of the internal of the Network : ConvModel(\n",
      "  (input_layer): Conv2d(1, 1, kernel_size=(5, 5), stride=(1, 1), padding=same)\n",
      "  (conv_layers): ModuleList(\n",
      "    (0): Conv2d(1, 1, kernel_size=(5, 5), stride=(1, 1), padding=same)\n",
      "  )\n",
      "  (l2): Linear(in_features=256, out_features=10, bias=True)\n",
      ")\n",
      "==================================================\n",
      " - Content of the first Layer : Parameter containing:\n",
      "tensor([[[[-0.1730, -0.1800,  0.0466, -0.1262,  0.1782],\n",
      "          [-0.1598,  0.0696, -0.1541, -0.1028,  0.0178],\n",
      "          [ 0.0719, -0.1474, -0.1660,  0.0602, -0.0559],\n",
      "          [ 0.0928, -0.1114, -0.1545,  0.0802,  0.1979],\n",
      "          [-0.0772,  0.1886, -0.1918, -0.0490,  0.1438]]]], requires_grad=True)\n"
     ]
    }
   ],
   "source": [
    "# Test model\n",
    "# description\n",
    "model = ConvModel()\n",
    "print(\" - What is the type of model ?\",type(model))\n",
    "print(\"=\"*50)\n",
    "print(\" - Description of the internal of the Network :\",model)\n",
    "print(\"=\"*50)\n",
    "print(\" - Content of the first Layer :\", model.input_layer.weight)\n",
    "\n",
    "# forward pass\n",
    "example_batch_size = 3\n",
    "example_loader = DataLoader(dataset, batch_size=example_batch_size, shuffle=True)\n",
    "\n",
    "for images,labels in example_loader:\n",
    "    example_output = model(images)\n"
   ]
  },
  {
   "cell_type": "code",
   "execution_count": 119,
   "metadata": {},
   "outputs": [
    {
     "name": "stdout",
     "output_type": "stream",
     "text": [
      "Epoch [1/10] \t Train loss: 0.0739\n",
      "\t Test accuracy: 16.4988\n",
      "Epoch [2/10] \t Train loss: 0.0738\n",
      "\t Test accuracy: 16.4988\n",
      "Epoch [3/10] \t Train loss: 0.0737\n",
      "\t Test accuracy: 16.4988\n",
      "Epoch [4/10] \t Train loss: 0.0737\n",
      "\t Test accuracy: 16.4988\n",
      "Epoch [5/10] \t Train loss: 0.0736\n",
      "\t Test accuracy: 16.4988\n",
      "Epoch [6/10] \t Train loss: 0.0736\n",
      "\t Test accuracy: 16.4988\n",
      "Epoch [7/10] \t Train loss: 0.0735\n",
      "\t Test accuracy: 16.4988\n",
      "Epoch [8/10] \t Train loss: 0.0735\n",
      "\t Test accuracy: 16.4988\n",
      "Epoch [9/10] \t Train loss: 0.0735\n",
      "\t Test accuracy: 16.4988\n",
      "Epoch [10/10] \t Train loss: 0.0735\n",
      "\t Test accuracy: 16.4988\n"
     ]
    }
   ],
   "source": [
    "# Training (with MLflow)\n",
    "# Dataset :\n",
    "generator1 = torch.Generator().manual_seed(42)\n",
    "train_set, val_set = random_split(dataset, [6000, 1291], generator=generator1)\n",
    "\n",
    "# Model parameters :\n",
    "model_params = {\n",
    "    'n_hidden' : 1,\n",
    "    'k_size' : 5}\n",
    "torch.manual_seed(42)\n",
    "model = ConvModel(**model_params, activation_fn= F.relu)\n",
    "model_params['activation_fn'] = 'relu'\n",
    "\n",
    "# Hyperparameters for training: \n",
    "num_epochs = 10\n",
    "batch_size = 10\n",
    "lr = 0.1\n",
    "criterion = nn.MSELoss()\n",
    "optimizer = torch.optim.SGD(model.parameters(), lr=lr)\n",
    "training_params = {\n",
    "    'criterion' : 'MSELoss',\n",
    "    'optimizer' : 'SGD',\n",
    "    'lr' : lr\n",
    "}\n",
    "\n",
    "exp_config = {\n",
    "    'name_experiment' : f'Conv_h{model_params[\"n_hidden\"]}_k{model_params[\"k_size\"]}',\n",
    "    'run_name' : 'test_run',\n",
    "    'description' : ''\n",
    "\n",
    "}\n",
    "train_error = train_mlflow(num_epochs, batch_size, criterion, optimizer, model, train_set, val_set, training_params, model_params, exp_config)"
   ]
  },
  {
   "cell_type": "code",
   "execution_count": 114,
   "metadata": {},
   "outputs": [
    {
     "data": {
      "text/plain": [
       "Text(0.5, 1.0, 'Visualization of convergence')"
      ]
     },
     "execution_count": 114,
     "metadata": {},
     "output_type": "execute_result"
    },
    {
     "data": {
      "image/png": "[encoded data removed]",
      "text/plain": [
       "<Figure size 640x480 with 1 Axes>"
      ]
     },
     "metadata": {},
     "output_type": "display_data"
    }
   ],
   "source": [
    "# plot the training error wrt. the number of epochs: \n",
    "plt.plot(range(1, num_epochs+1), train_error)\n",
    "plt.xlabel(\"num_epochs\")\n",
    "plt.ylabel(\"Train error\")\n",
    "plt.title(\"Visualization of convergence\")"
   ]
  },
  {
   "cell_type": "code",
   "execution_count": 75,
   "metadata": {},
   "outputs": [
    {
     "name": "stdout",
     "output_type": "stream",
     "text": [
      "^C\n"
     ]
    }
   ],
   "source": [
    "# !mlflow ui --port 5002"
   ]
  },
  {
   "cell_type": "markdown",
   "metadata": {},
   "source": [
    "### Exercise 2: Impact of the optimizer\n",
    "Retrain the model by using different parameters of the optimizer; you can change its parameters in the cell initializing it, after the definition of your model.\n",
    "\n",
    "* Use different batch sizes, from 10 to 1 000 for instance\n",
    "* Try different values of the learning rate (between 0.001 and 10), and see how these impact the training process. Do all network architectures react the same way to different learning rates?\n",
    "* Change the duration of the training by increasing the number of epochs\n",
    "* Try other optimizers, such as [Adam](https://pytorch.org/docs/stable/optim.html?highlight=adam#torch.optim.Adam) or [RMSprop](https://pytorch.org/docs/stable/optim.html?highlight=rmsprop#torch.optim.RMSprop)"
   ]
  },
  {
   "cell_type": "markdown",
   "metadata": {},
   "source": [
    "### Exercise 3: Impact of the loss function\n",
    "The MSE error is rarely used in this case. The cross entropy loss can be a better choice for multi-classification problems. In pytorch, the cross entropy loss is defined by [nn.CrossEntropyLoss](https://pytorch.org/docs/stable/nn.html#crossentropyloss). Replace the MSE loss by this one to observe its impact.\n",
    "\n",
    "**Note:** In order to use nn.CrossEntropyLoss correctly, don't add an activation function to the last layer of your network. And one-hot encoding is no longer needed to calculate the loss, delete the encoding procedures in function `train`.   "
   ]
  },
  {
   "cell_type": "markdown",
   "metadata": {},
   "source": [
    "### Exercise 4: Prediction on test set\n",
    "\n",
    "Once you have a model that seems satisfying on the validation dataset, you SHOULD evaluate it on a test dataset that has never been used before, to obtain a final accuracy value."
   ]
  },
  {
   "cell_type": "code",
   "execution_count": 1,
   "metadata": {},
   "outputs": [
    {
     "data": {
      "text/plain": [
       "299"
      ]
     },
     "execution_count": 1,
     "metadata": {},
     "output_type": "execute_result"
    }
   ],
   "source": [
    "import requests\n",
    "\n",
    "url = 'http://www.csie.ntu.edu.tw/~cjlin/libsvmtools/datasets/multiclass/usps.t.bz2'\n",
    "r = requests.get(url, allow_redirects=True)\n",
    "open('USPS/usps.t.bz2', 'wb').write(r.content)"
   ]
  },
  {
   "cell_type": "code",
   "execution_count": null,
   "metadata": {},
   "outputs": [],
   "source": [
    "# Loading MNIST test set from torchvision.dataset\n",
    "test_set = torchvision.datasets.USPS(root='USPS/',\n",
    "                                         train=False,\n",
    "                                         transform=transforms.ToTensor(),\n",
    "                                         download=False)"
   ]
  },
  {
   "cell_type": "code",
   "execution_count": null,
   "metadata": {},
   "outputs": [],
   "source": [
    "accuracy(test_set, model)"
   ]
  }
 ],
 "metadata": {
  "kernelspec": {
   "display_name": "Python 3 (ipykernel)",
   "language": "python",
   "name": "python3"
  },
  "language_info": {
   "codemirror_mode": {
    "name": "ipython",
    "version": 3
   },
   "file_extension": ".py",
   "mimetype": "text/x-python",
   "name": "python",
   "nbconvert_exporter": "python",
   "pygments_lexer": "ipython3",
   "version": "3.8.8"
  },
  "vscode": {
   "interpreter": {
    "hash": "ba5ba4c049791c3047b698a7cd400296017c86ac9307a8bdfda620d9863f10c7"
   }
  }
 },
 "nbformat": 4,
 "nbformat_minor": 2
}
